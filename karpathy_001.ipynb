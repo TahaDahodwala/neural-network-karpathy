{
 "cells": [
  {
   "cell_type": "code",
   "execution_count": 2,
   "id": "8cbc88e4-f16d-4df0-935a-4ea71ad8491f",
   "metadata": {},
   "outputs": [],
   "source": [
    "import numpy as np\n",
    "import pandas as pd\n",
    "import matplotlib.pyplot as plt"
   ]
  },
  {
   "cell_type": "code",
   "execution_count": 3,
   "id": "0c1ca97d-961b-48a7-9fca-8340a4233b5c",
   "metadata": {},
   "outputs": [],
   "source": [
    "def f(x):\n",
    "    return 3*x**2 - 4*x + 5"
   ]
  },
  {
   "cell_type": "code",
   "execution_count": 4,
   "id": "161e20c9-f619-4ae4-800a-af9d1c117dbf",
   "metadata": {},
   "outputs": [
    {
     "data": {
      "text/plain": [
       "20.0"
      ]
     },
     "execution_count": 4,
     "metadata": {},
     "output_type": "execute_result"
    }
   ],
   "source": [
    "f(3.0)"
   ]
  },
  {
   "cell_type": "code",
   "execution_count": 5,
   "id": "57550573-2669-405d-b312-4bf69c10f594",
   "metadata": {},
   "outputs": [
    {
     "data": {
      "text/plain": [
       "[<matplotlib.lines.Line2D at 0x1f321bd6e90>]"
      ]
     },
     "execution_count": 5,
     "metadata": {},
     "output_type": "execute_result"
    },
    {
     "data": {
      "image/png": "[encoded data removed]",
      "text/plain": [
       "<Figure size 640x480 with 1 Axes>"
      ]
     },
     "metadata": {},
     "output_type": "display_data"
    }
   ],
   "source": [
    "xs = np.arange(-5, 5, 0.25)\n",
    "ys = f(xs)\n",
    "plt.plot(xs, ys)"
   ]
  },
  {
   "cell_type": "raw",
   "id": "b7a04438-6463-4e21-92e9-a7d03243fe1b",
   "metadata": {},
   "source": [
    "LETS JUMP INTO DIFFERENTIATION AND ITS BASICS"
   ]
  },
  {
   "cell_type": "code",
   "execution_count": 6,
   "id": "63619118-32ba-4aae-87b1-740039690a27",
   "metadata": {
    "scrolled": true
   },
   "outputs": [
    {
     "name": "stdout",
     "output_type": "stream",
     "text": [
      "4.0\n",
      "__________\n",
      "d1:  4.0\n",
      "d2:  3.999699999999999\n",
      "slope:  -3.000000000010772\n"
     ]
    }
   ],
   "source": [
    "#inputs\n",
    "\n",
    "a = 2.0\n",
    "b= -3.0\n",
    "c = 10.0\n",
    "\n",
    "#output\n",
    "\n",
    "d = a*b + c\n",
    "print(d)\n",
    "\n",
    "print(\"__________\")\n",
    "\n",
    "#limit tends to zero (h)\n",
    "h = 0.0001\n",
    "\n",
    "#slopes\n",
    "d1 = a*b +c\n",
    "a+=h #derivative of d wrt a (therefore bumped up a)\n",
    "d2 = a*b + c\n",
    "\n",
    "#slope calculation\n",
    "print('d1: ',d1)\n",
    "print('d2: ',d2)\n",
    "print('slope: ', (d2 - d1) / h )\n",
    "\n"
   ]
  },
  {
   "cell_type": "code",
   "execution_count": 7,
   "id": "d1d61830-bc3c-49b2-9773-0b4a2ccc7dd6",
   "metadata": {},
   "outputs": [
    {
     "name": "stdout",
     "output_type": "stream",
     "text": [
      "d1:  3.999699999999999\n",
      "d2:  3.99990001\n",
      "slope:  2.0001000000124947\n"
     ]
    }
   ],
   "source": [
    "#slopes\n",
    "d1 = a*b +c\n",
    "b+=h #derivative of d wrt b (therefore bumped up b)\n",
    "d2 = a*b + c\n",
    "\n",
    "#slope calculation\n",
    "print('d1: ',d1)\n",
    "print('d2: ',d2)\n",
    "print('slope: ', (d2 - d1) / h )"
   ]
  },
  {
   "cell_type": "markdown",
   "id": "63caf3c5-7be6-4989-aa92-1721049c8e9c",
   "metadata": {},
   "source": [
    "#slopes\n",
    "d1 = a*b +c\n",
    "c+=h #derivative of d wrt c (therefore bumped up c)\n",
    "d2 = a*b + c\n",
    "\n",
    "#slope calculation\n",
    "print('d1: ',d1)\n",
    "print('d2: ',d2)\n",
    "print('slope: ', (d2 - d1) / h )"
   ]
  },
  {
   "cell_type": "markdown",
   "id": "247ba5a6-f0b7-4cb3-993e-8f865b0a5a54",
   "metadata": {},
   "source": [
    "THIS WAS THE BASICS OF DIFFERENTIATION\n",
    "NOW WE JUMP INTO DEFINING FUNCTIONS THAT HELP US ACHIEVE WHAT WE WANT EASILY"
   ]
  },
  {
   "cell_type": "code",
   "execution_count": 37,
   "id": "1b591578-77a0-43d8-b6ac-58cba681ab50",
   "metadata": {},
   "outputs": [],
   "source": [
    "class Value:\n",
    "    def __init__(self,data, _children=(), _op = '', label = ''): \n",
    "        self.data = data\n",
    "        self._prev = set(_children)\n",
    "        self._op = _op\n",
    "        self.label = label\n",
    "        \n",
    "\n",
    "        \n",
    "# Children keeps track of what values produces what other values\n",
    "# prev is a set that tracks of the previous values\n",
    "# op keeps track of the operations' labels for the user to understand easily\n",
    "# label helps us keep track of variable names \n",
    "\n",
    "    def __repr__(self): #If this is not present, the values would be printed out in an ugly manner\n",
    "        return f\"Value(data = {self.data})\"\n",
    "\n",
    "    def __add__(self, other):\n",
    "        out = Value(self.data + other.data, (self, other), '+') #adding and feeding the children and previous values\n",
    "        return out\n",
    "\n",
    "    def __mul__(self, other):\n",
    "        out = Value(self.data * other.data, (self, other), '*') #adding and feeding the children and previous values\n",
    "        return out\n",
    "\n",
    "a = Value(2.0, label = 'a')\n",
    "b = Value(-3.0, label = 'b')\n",
    "c = Value(10.0, label = 'c')\n",
    "e = a*b; e.label = 'e'\n",
    "d = e + c; d.label = 'd'"
   ]
  },
  {
   "cell_type": "code",
   "execution_count": 9,
   "id": "19ea7e3a-8c2d-4bb2-abfb-fdbc84f269d3",
   "metadata": {},
   "outputs": [
    {
     "data": {
      "text/plain": [
       "Value(data = -1.0)"
      ]
     },
     "execution_count": 9,
     "metadata": {},
     "output_type": "execute_result"
    }
   ],
   "source": [
    "#a+b\n",
    "a.__add__(b)"
   ]
  },
  {
   "cell_type": "code",
   "execution_count": 10,
   "id": "0928daa5-9cb6-4c02-8557-a6e5d732883f",
   "metadata": {},
   "outputs": [
    {
     "data": {
      "text/plain": [
       "Value(data = -6.0)"
      ]
     },
     "execution_count": 10,
     "metadata": {},
     "output_type": "execute_result"
    }
   ],
   "source": [
    "#a*b\n",
    "a.__mul__(b)"
   ]
  },
  {
   "cell_type": "code",
   "execution_count": 31,
   "id": "51f23db7-2e4b-4b6b-b113-bb758175031c",
   "metadata": {},
   "outputs": [
    {
     "data": {
      "text/plain": [
       "Value(data = 4.0)"
      ]
     },
     "execution_count": 31,
     "metadata": {},
     "output_type": "execute_result"
    }
   ],
   "source": [
    "d = a*b + c\n",
    "(a.__mul__(b)).__add__(c)"
   ]
  },
  {
   "cell_type": "code",
   "execution_count": 12,
   "id": "c55c1b14-195c-46d6-87aa-b75408a27237",
   "metadata": {},
   "outputs": [
    {
     "data": {
      "text/plain": [
       "{Value(data = -6.0), Value(data = 10.0)}"
      ]
     },
     "execution_count": 12,
     "metadata": {},
     "output_type": "execute_result"
    }
   ],
   "source": [
    "d._prev #prints the previous values that were required to get to this number"
   ]
  },
  {
   "cell_type": "code",
   "execution_count": 13,
   "id": "530e8c5a-23e3-427c-9d3e-1272e99ec842",
   "metadata": {},
   "outputs": [
    {
     "data": {
      "text/plain": [
       "'+'"
      ]
     },
     "execution_count": 13,
     "metadata": {},
     "output_type": "execute_result"
    }
   ],
   "source": [
    "d._op #prints the previous operations that were required to get to this number"
   ]
  },
  {
   "cell_type": "markdown",
   "id": "e3f11e3f-b8bd-40dc-acdb-6c3e506d2518",
   "metadata": {},
   "source": [
    "NOW TO VISUALISE ALL OF THIS WITH THE HELP OF A GRAPH, HERE'S THE CODE THAT HELPS US BUILD THE GRAPH USING GRAPHVIZ"
   ]
  },
  {
   "cell_type": "code",
   "execution_count": 38,
   "id": "84a764ac-e467-4a88-ade3-a85d3a6fedb4",
   "metadata": {},
   "outputs": [],
   "source": [
    "from graphviz import Digraph\n",
    "\n",
    "def trace(root):\n",
    "    #builds a set of all the nodes and edges in the graph\n",
    "    nodes, edges = set(), set()\n",
    "    def build(v):\n",
    "        if v not in nodes:\n",
    "            nodes.add(v)\n",
    "            for child in v._prev:\n",
    "                edges.add((child, v))\n",
    "                build(child)\n",
    "    build(root)\n",
    "    return nodes, edges\n",
    "\n",
    "def draw_dot(root):\n",
    "    dot = Digraph(format = 'svg', graph_attr = {'rankdir': 'LR'}) #LR - left to right\n",
    "\n",
    "    nodes, edges= trace(root)\n",
    "    for n in nodes:\n",
    "        uid = str(id(n))\n",
    "        #for value in the graph, create a rectangular record for it\n",
    "        dot.node(name = uid, label = \"{ %s | data %.4f }\" % (n.label, n.data, ), shape = 'record')\n",
    "\n",
    "        if n._op:\n",
    "            # if this value is a result of some operation, create a node for it\n",
    "            dot.node(name = uid + n._op, label = n._op)\n",
    "            #and connect this with an edge\n",
    "            dot.edge(uid + n._op, uid)\n",
    "\n",
    "    for n1, n2 in edges:\n",
    "        #connecting n1 to the op node of n2\n",
    "        dot.edge(str(id(n1)), str(id(n2)) + n2._op)\n",
    "\n",
    "    return dot"
   ]
  },
  {
   "cell_type": "code",
   "execution_count": 39,
   "id": "5f1cb08f-e6c4-47fc-a18d-6f11d0d0f74b",
   "metadata": {},
   "outputs": [
    {
     "data": {
      "image/svg+xml": [
       "<?xml version=\"1.0\" encoding=\"UTF-8\" standalone=\"no\"?>\n",
       "<!DOCTYPE svg PUBLIC \"-//W3C//DTD SVG 1.1//EN\"\n",
       " \"http://www.w3.org/Graphics/SVG/1.1/DTD/svg11.dtd\">\n",
       "<!-- Generated by graphviz version 13.0.1 (20250615.1724)\n",
       " -->\n",
       "<!-- Pages: 1 -->\n",
       "<svg width=\"578pt\" height=\"128pt\"\n",
       " viewBox=\"0.00 0.00 578.00 128.00\" xmlns=\"http://www.w3.org/2000/svg\" xmlns:xlink=\"http://www.w3.org/1999/xlink\">\n",
       "<g id=\"graph0\" class=\"graph\" transform=\"scale(1 1) rotate(0) translate(4 124)\">\n",
       "<polygon fill=\"white\" stroke=\"none\" points=\"-4,4 -4,-124 574,-124 574,4 -4,4\"/>\n",
       "<!-- 2143756088848 -->\n",
       "<g id=\"node1\" class=\"node\">\n",
       "<title>2143756088848</title>\n",
       "<polygon fill=\"none\" stroke=\"black\" points=\"0,-83.5 0,-119.5 107,-119.5 107,-83.5 0,-83.5\"/>\n",
       "<text xml:space=\"preserve\" text-anchor=\"middle\" x=\"11.38\" y=\"-96.7\" font-family=\"Times New Roman,serif\" font-size=\"14.00\">b</text>\n",
       "<polyline fill=\"none\" stroke=\"black\" points=\"22.75,-84 22.75,-119.5\"/>\n",
       "<text xml:space=\"preserve\" text-anchor=\"middle\" x=\"64.88\" y=\"-96.7\" font-family=\"Times New Roman,serif\" font-size=\"14.00\">data &#45;3.0000</text>\n",
       "</g>\n",
       "<!-- 2143755350272* -->\n",
       "<g id=\"node4\" class=\"node\">\n",
       "<title>2143755350272*</title>\n",
       "<ellipse fill=\"none\" stroke=\"black\" cx=\"170\" cy=\"-73.5\" rx=\"27\" ry=\"18\"/>\n",
       "<text xml:space=\"preserve\" text-anchor=\"middle\" x=\"170\" y=\"-68.45\" font-family=\"Times New Roman,serif\" font-size=\"14.00\">*</text>\n",
       "</g>\n",
       "<!-- 2143756088848&#45;&gt;2143755350272* -->\n",
       "<g id=\"edge4\" class=\"edge\">\n",
       "<title>2143756088848&#45;&gt;2143755350272*</title>\n",
       "<path fill=\"none\" stroke=\"black\" d=\"M107.39,-88.57C116.15,-86.42 125.05,-84.25 133.26,-82.24\"/>\n",
       "<polygon fill=\"black\" stroke=\"black\" points=\"133.97,-85.67 142.85,-79.89 132.3,-78.87 133.97,-85.67\"/>\n",
       "</g>\n",
       "<!-- 2143755848400 -->\n",
       "<g id=\"node2\" class=\"node\">\n",
       "<title>2143755848400</title>\n",
       "<polygon fill=\"none\" stroke=\"black\" points=\"2.62,-28.5 2.62,-64.5 104.38,-64.5 104.38,-28.5 2.62,-28.5\"/>\n",
       "<text xml:space=\"preserve\" text-anchor=\"middle\" x=\"13.62\" y=\"-41.7\" font-family=\"Times New Roman,serif\" font-size=\"14.00\">a</text>\n",
       "<polyline fill=\"none\" stroke=\"black\" points=\"24.62,-29 24.62,-64.5\"/>\n",
       "<text xml:space=\"preserve\" text-anchor=\"middle\" x=\"64.5\" y=\"-41.7\" font-family=\"Times New Roman,serif\" font-size=\"14.00\">data 2.0000</text>\n",
       "</g>\n",
       "<!-- 2143755848400&#45;&gt;2143755350272* -->\n",
       "<g id=\"edge6\" class=\"edge\">\n",
       "<title>2143755848400&#45;&gt;2143755350272*</title>\n",
       "<path fill=\"none\" stroke=\"black\" d=\"M104.72,-58.34C114.16,-60.57 123.86,-62.86 132.78,-64.96\"/>\n",
       "<polygon fill=\"black\" stroke=\"black\" points=\"131.94,-68.36 142.48,-67.25 133.55,-61.54 131.94,-68.36\"/>\n",
       "</g>\n",
       "<!-- 2143755350272 -->\n",
       "<g id=\"node3\" class=\"node\">\n",
       "<title>2143755350272</title>\n",
       "<polygon fill=\"none\" stroke=\"black\" points=\"234.12,-55.5 234.12,-91.5 340.38,-91.5 340.38,-55.5 234.12,-55.5\"/>\n",
       "<text xml:space=\"preserve\" text-anchor=\"middle\" x=\"245.12\" y=\"-68.7\" font-family=\"Times New Roman,serif\" font-size=\"14.00\">e</text>\n",
       "<polyline fill=\"none\" stroke=\"black\" points=\"256.12,-56 256.12,-91.5\"/>\n",
       "<text xml:space=\"preserve\" text-anchor=\"middle\" x=\"298.25\" y=\"-68.7\" font-family=\"Times New Roman,serif\" font-size=\"14.00\">data &#45;6.0000</text>\n",
       "</g>\n",
       "<!-- 2143755349968+ -->\n",
       "<g id=\"node7\" class=\"node\">\n",
       "<title>2143755349968+</title>\n",
       "<ellipse fill=\"none\" stroke=\"black\" cx=\"404.5\" cy=\"-45.5\" rx=\"27\" ry=\"18\"/>\n",
       "<text xml:space=\"preserve\" text-anchor=\"middle\" x=\"404.5\" y=\"-40.45\" font-family=\"Times New Roman,serif\" font-size=\"14.00\">+</text>\n",
       "</g>\n",
       "<!-- 2143755350272&#45;&gt;2143755349968+ -->\n",
       "<g id=\"edge5\" class=\"edge\">\n",
       "<title>2143755350272&#45;&gt;2143755349968+</title>\n",
       "<path fill=\"none\" stroke=\"black\" d=\"M340.82,-60.73C349.88,-58.53 359.11,-56.29 367.6,-54.22\"/>\n",
       "<polygon fill=\"black\" stroke=\"black\" points=\"368.27,-57.66 377.16,-51.9 366.62,-50.86 368.27,-57.66\"/>\n",
       "</g>\n",
       "<!-- 2143755350272*&#45;&gt;2143755350272 -->\n",
       "<g id=\"edge1\" class=\"edge\">\n",
       "<title>2143755350272*&#45;&gt;2143755350272</title>\n",
       "<path fill=\"none\" stroke=\"black\" d=\"M197.44,-73.5C205.1,-73.5 213.82,-73.5 222.73,-73.5\"/>\n",
       "<polygon fill=\"black\" stroke=\"black\" points=\"222.53,-77 232.53,-73.5 222.53,-70 222.53,-77\"/>\n",
       "</g>\n",
       "<!-- 2143756089168 -->\n",
       "<g id=\"node5\" class=\"node\">\n",
       "<title>2143756089168</title>\n",
       "<polygon fill=\"none\" stroke=\"black\" points=\"233,-0.5 233,-36.5 341.5,-36.5 341.5,-0.5 233,-0.5\"/>\n",
       "<text xml:space=\"preserve\" text-anchor=\"middle\" x=\"244\" y=\"-13.7\" font-family=\"Times New Roman,serif\" font-size=\"14.00\">c</text>\n",
       "<polyline fill=\"none\" stroke=\"black\" points=\"255,-1 255,-36.5\"/>\n",
       "<text xml:space=\"preserve\" text-anchor=\"middle\" x=\"298.25\" y=\"-13.7\" font-family=\"Times New Roman,serif\" font-size=\"14.00\">data 10.0000</text>\n",
       "</g>\n",
       "<!-- 2143756089168&#45;&gt;2143755349968+ -->\n",
       "<g id=\"edge3\" class=\"edge\">\n",
       "<title>2143756089168&#45;&gt;2143755349968+</title>\n",
       "<path fill=\"none\" stroke=\"black\" d=\"M341.83,-31.05C350.54,-33.09 359.37,-35.16 367.53,-37.07\"/>\n",
       "<polygon fill=\"black\" stroke=\"black\" points=\"366.52,-40.43 377.05,-39.3 368.11,-33.61 366.52,-40.43\"/>\n",
       "</g>\n",
       "<!-- 2143755349968 -->\n",
       "<g id=\"node6\" class=\"node\">\n",
       "<title>2143755349968</title>\n",
       "<polygon fill=\"none\" stroke=\"black\" points=\"467.5,-27.5 467.5,-63.5 570,-63.5 570,-27.5 467.5,-27.5\"/>\n",
       "<text xml:space=\"preserve\" text-anchor=\"middle\" x=\"478.88\" y=\"-40.7\" font-family=\"Times New Roman,serif\" font-size=\"14.00\">d</text>\n",
       "<polyline fill=\"none\" stroke=\"black\" points=\"490.25,-28 490.25,-63.5\"/>\n",
       "<text xml:space=\"preserve\" text-anchor=\"middle\" x=\"530.12\" y=\"-40.7\" font-family=\"Times New Roman,serif\" font-size=\"14.00\">data 4.0000</text>\n",
       "</g>\n",
       "<!-- 2143755349968+&#45;&gt;2143755349968 -->\n",
       "<g id=\"edge2\" class=\"edge\">\n",
       "<title>2143755349968+&#45;&gt;2143755349968</title>\n",
       "<path fill=\"none\" stroke=\"black\" d=\"M431.82,-45.5C439.21,-45.5 447.57,-45.5 456.1,-45.5\"/>\n",
       "<polygon fill=\"black\" stroke=\"black\" points=\"455.83,-49 465.83,-45.5 455.83,-42 455.83,-49\"/>\n",
       "</g>\n",
       "</g>\n",
       "</svg>\n"
      ],
      "text/plain": [
       "<graphviz.graphs.Digraph at 0x1f321d6ea50>"
      ]
     },
     "execution_count": 39,
     "metadata": {},
     "output_type": "execute_result"
    }
   ],
   "source": [
    "draw_dot(d)"
   ]
  },
  {
   "cell_type": "code",
   "execution_count": 41,
   "id": "af289aa2-6749-4556-b292-8537f07a8e58",
   "metadata": {},
   "outputs": [
    {
     "data": {
      "text/plain": [
       "Value(data = -8.0)"
      ]
     },
     "execution_count": 41,
     "metadata": {},
     "output_type": "execute_result"
    }
   ],
   "source": [
    "f = Value(-2.0, label = 'f')\n",
    "l = d * f; l.label = 'L'\n",
    "l"
   ]
  },
  {
   "cell_type": "code",
   "execution_count": 43,
   "id": "1afd1841-dfac-4998-b7e7-926abec3c653",
   "metadata": {},
   "outputs": [
    {
     "data": {
      "image/svg+xml": [
       "<?xml version=\"1.0\" encoding=\"UTF-8\" standalone=\"no\"?>\n",
       "<!DOCTYPE svg PUBLIC \"-//W3C//DTD SVG 1.1//EN\"\n",
       " \"http://www.w3.org/Graphics/SVG/1.1/DTD/svg11.dtd\">\n",
       "<!-- Generated by graphviz version 13.0.1 (20250615.1724)\n",
       " -->\n",
       "<!-- Pages: 1 -->\n",
       "<svg width=\"815pt\" height=\"156pt\"\n",
       " viewBox=\"0.00 0.00 815.00 156.00\" xmlns=\"http://www.w3.org/2000/svg\" xmlns:xlink=\"http://www.w3.org/1999/xlink\">\n",
       "<g id=\"graph0\" class=\"graph\" transform=\"scale(1 1) rotate(0) translate(4 152)\">\n",
       "<polygon fill=\"white\" stroke=\"none\" points=\"-4,4 -4,-152 810.75,-152 810.75,4 -4,4\"/>\n",
       "<!-- 2143756088848 -->\n",
       "<g id=\"node1\" class=\"node\">\n",
       "<title>2143756088848</title>\n",
       "<polygon fill=\"none\" stroke=\"black\" points=\"0,-111.5 0,-147.5 107,-147.5 107,-111.5 0,-111.5\"/>\n",
       "<text xml:space=\"preserve\" text-anchor=\"middle\" x=\"11.38\" y=\"-124.7\" font-family=\"Times New Roman,serif\" font-size=\"14.00\">b</text>\n",
       "<polyline fill=\"none\" stroke=\"black\" points=\"22.75,-112 22.75,-147.5\"/>\n",
       "<text xml:space=\"preserve\" text-anchor=\"middle\" x=\"64.88\" y=\"-124.7\" font-family=\"Times New Roman,serif\" font-size=\"14.00\">data &#45;3.0000</text>\n",
       "</g>\n",
       "<!-- 2143755350272* -->\n",
       "<g id=\"node6\" class=\"node\">\n",
       "<title>2143755350272*</title>\n",
       "<ellipse fill=\"none\" stroke=\"black\" cx=\"170\" cy=\"-101.5\" rx=\"27\" ry=\"18\"/>\n",
       "<text xml:space=\"preserve\" text-anchor=\"middle\" x=\"170\" y=\"-96.45\" font-family=\"Times New Roman,serif\" font-size=\"14.00\">*</text>\n",
       "</g>\n",
       "<!-- 2143756088848&#45;&gt;2143755350272* -->\n",
       "<g id=\"edge8\" class=\"edge\">\n",
       "<title>2143756088848&#45;&gt;2143755350272*</title>\n",
       "<path fill=\"none\" stroke=\"black\" d=\"M107.39,-116.57C116.15,-114.42 125.05,-112.25 133.26,-110.24\"/>\n",
       "<polygon fill=\"black\" stroke=\"black\" points=\"133.97,-113.67 142.85,-107.89 132.3,-106.87 133.97,-113.67\"/>\n",
       "</g>\n",
       "<!-- 2143796202576 -->\n",
       "<g id=\"node2\" class=\"node\">\n",
       "<title>2143796202576</title>\n",
       "<polygon fill=\"none\" stroke=\"black\" points=\"698.25,-27.5 698.25,-63.5 806.75,-63.5 806.75,-27.5 698.25,-27.5\"/>\n",
       "<text xml:space=\"preserve\" text-anchor=\"middle\" x=\"710.38\" y=\"-40.7\" font-family=\"Times New Roman,serif\" font-size=\"14.00\">L</text>\n",
       "<polyline fill=\"none\" stroke=\"black\" points=\"722.5,-28 722.5,-63.5\"/>\n",
       "<text xml:space=\"preserve\" text-anchor=\"middle\" x=\"764.62\" y=\"-40.7\" font-family=\"Times New Roman,serif\" font-size=\"14.00\">data &#45;8.0000</text>\n",
       "</g>\n",
       "<!-- 2143796202576* -->\n",
       "<g id=\"node3\" class=\"node\">\n",
       "<title>2143796202576*</title>\n",
       "<ellipse fill=\"none\" stroke=\"black\" cx=\"635.25\" cy=\"-45.5\" rx=\"27\" ry=\"18\"/>\n",
       "<text xml:space=\"preserve\" text-anchor=\"middle\" x=\"635.25\" y=\"-40.45\" font-family=\"Times New Roman,serif\" font-size=\"14.00\">*</text>\n",
       "</g>\n",
       "<!-- 2143796202576*&#45;&gt;2143796202576 -->\n",
       "<g id=\"edge1\" class=\"edge\">\n",
       "<title>2143796202576*&#45;&gt;2143796202576</title>\n",
       "<path fill=\"none\" stroke=\"black\" d=\"M662.69,-45.5C669.91,-45.5 678.06,-45.5 686.43,-45.5\"/>\n",
       "<polygon fill=\"black\" stroke=\"black\" points=\"686.39,-49 696.39,-45.5 686.39,-42 686.39,-49\"/>\n",
       "</g>\n",
       "<!-- 2143755848400 -->\n",
       "<g id=\"node4\" class=\"node\">\n",
       "<title>2143755848400</title>\n",
       "<polygon fill=\"none\" stroke=\"black\" points=\"2.62,-56.5 2.62,-92.5 104.38,-92.5 104.38,-56.5 2.62,-56.5\"/>\n",
       "<text xml:space=\"preserve\" text-anchor=\"middle\" x=\"13.62\" y=\"-69.7\" font-family=\"Times New Roman,serif\" font-size=\"14.00\">a</text>\n",
       "<polyline fill=\"none\" stroke=\"black\" points=\"24.62,-57 24.62,-92.5\"/>\n",
       "<text xml:space=\"preserve\" text-anchor=\"middle\" x=\"64.5\" y=\"-69.7\" font-family=\"Times New Roman,serif\" font-size=\"14.00\">data 2.0000</text>\n",
       "</g>\n",
       "<!-- 2143755848400&#45;&gt;2143755350272* -->\n",
       "<g id=\"edge7\" class=\"edge\">\n",
       "<title>2143755848400&#45;&gt;2143755350272*</title>\n",
       "<path fill=\"none\" stroke=\"black\" d=\"M104.72,-86.34C114.16,-88.57 123.86,-90.86 132.78,-92.96\"/>\n",
       "<polygon fill=\"black\" stroke=\"black\" points=\"131.94,-96.36 142.48,-95.25 133.55,-89.54 131.94,-96.36\"/>\n",
       "</g>\n",
       "<!-- 2143755350272 -->\n",
       "<g id=\"node5\" class=\"node\">\n",
       "<title>2143755350272</title>\n",
       "<polygon fill=\"none\" stroke=\"black\" points=\"234.12,-83.5 234.12,-119.5 340.38,-119.5 340.38,-83.5 234.12,-83.5\"/>\n",
       "<text xml:space=\"preserve\" text-anchor=\"middle\" x=\"245.12\" y=\"-96.7\" font-family=\"Times New Roman,serif\" font-size=\"14.00\">e</text>\n",
       "<polyline fill=\"none\" stroke=\"black\" points=\"256.12,-84 256.12,-119.5\"/>\n",
       "<text xml:space=\"preserve\" text-anchor=\"middle\" x=\"298.25\" y=\"-96.7\" font-family=\"Times New Roman,serif\" font-size=\"14.00\">data &#45;6.0000</text>\n",
       "</g>\n",
       "<!-- 2143755349968+ -->\n",
       "<g id=\"node10\" class=\"node\">\n",
       "<title>2143755349968+</title>\n",
       "<ellipse fill=\"none\" stroke=\"black\" cx=\"404.5\" cy=\"-73.5\" rx=\"27\" ry=\"18\"/>\n",
       "<text xml:space=\"preserve\" text-anchor=\"middle\" x=\"404.5\" y=\"-68.45\" font-family=\"Times New Roman,serif\" font-size=\"14.00\">+</text>\n",
       "</g>\n",
       "<!-- 2143755350272&#45;&gt;2143755349968+ -->\n",
       "<g id=\"edge4\" class=\"edge\">\n",
       "<title>2143755350272&#45;&gt;2143755349968+</title>\n",
       "<path fill=\"none\" stroke=\"black\" d=\"M340.82,-88.73C349.88,-86.53 359.11,-84.29 367.6,-82.22\"/>\n",
       "<polygon fill=\"black\" stroke=\"black\" points=\"368.27,-85.66 377.16,-79.9 366.62,-78.86 368.27,-85.66\"/>\n",
       "</g>\n",
       "<!-- 2143755350272*&#45;&gt;2143755350272 -->\n",
       "<g id=\"edge2\" class=\"edge\">\n",
       "<title>2143755350272*&#45;&gt;2143755350272</title>\n",
       "<path fill=\"none\" stroke=\"black\" d=\"M197.44,-101.5C205.1,-101.5 213.82,-101.5 222.73,-101.5\"/>\n",
       "<polygon fill=\"black\" stroke=\"black\" points=\"222.53,-105 232.53,-101.5 222.53,-98 222.53,-105\"/>\n",
       "</g>\n",
       "<!-- 2143796121936 -->\n",
       "<g id=\"node7\" class=\"node\">\n",
       "<title>2143796121936</title>\n",
       "<polygon fill=\"none\" stroke=\"black\" points=\"467.5,-0.5 467.5,-36.5 572.25,-36.5 572.25,-0.5 467.5,-0.5\"/>\n",
       "<text xml:space=\"preserve\" text-anchor=\"middle\" x=\"477.75\" y=\"-13.7\" font-family=\"Times New Roman,serif\" font-size=\"14.00\">f</text>\n",
       "<polyline fill=\"none\" stroke=\"black\" points=\"488,-1 488,-36.5\"/>\n",
       "<text xml:space=\"preserve\" text-anchor=\"middle\" x=\"530.12\" y=\"-13.7\" font-family=\"Times New Roman,serif\" font-size=\"14.00\">data &#45;2.0000</text>\n",
       "</g>\n",
       "<!-- 2143796121936&#45;&gt;2143796202576* -->\n",
       "<g id=\"edge5\" class=\"edge\">\n",
       "<title>2143796121936&#45;&gt;2143796202576*</title>\n",
       "<path fill=\"none\" stroke=\"black\" d=\"M572.59,-30.81C581.32,-32.89 590.21,-35.01 598.42,-36.97\"/>\n",
       "<polygon fill=\"black\" stroke=\"black\" points=\"597.48,-40.34 608.02,-39.25 599.1,-33.53 597.48,-40.34\"/>\n",
       "</g>\n",
       "<!-- 2143756089168 -->\n",
       "<g id=\"node8\" class=\"node\">\n",
       "<title>2143756089168</title>\n",
       "<polygon fill=\"none\" stroke=\"black\" points=\"233,-28.5 233,-64.5 341.5,-64.5 341.5,-28.5 233,-28.5\"/>\n",
       "<text xml:space=\"preserve\" text-anchor=\"middle\" x=\"244\" y=\"-41.7\" font-family=\"Times New Roman,serif\" font-size=\"14.00\">c</text>\n",
       "<polyline fill=\"none\" stroke=\"black\" points=\"255,-29 255,-64.5\"/>\n",
       "<text xml:space=\"preserve\" text-anchor=\"middle\" x=\"298.25\" y=\"-41.7\" font-family=\"Times New Roman,serif\" font-size=\"14.00\">data 10.0000</text>\n",
       "</g>\n",
       "<!-- 2143756089168&#45;&gt;2143755349968+ -->\n",
       "<g id=\"edge9\" class=\"edge\">\n",
       "<title>2143756089168&#45;&gt;2143755349968+</title>\n",
       "<path fill=\"none\" stroke=\"black\" d=\"M341.83,-59.05C350.54,-61.09 359.37,-63.16 367.53,-65.07\"/>\n",
       "<polygon fill=\"black\" stroke=\"black\" points=\"366.52,-68.43 377.05,-67.3 368.11,-61.61 366.52,-68.43\"/>\n",
       "</g>\n",
       "<!-- 2143755349968 -->\n",
       "<g id=\"node9\" class=\"node\">\n",
       "<title>2143755349968</title>\n",
       "<polygon fill=\"none\" stroke=\"black\" points=\"468.62,-55.5 468.62,-91.5 571.12,-91.5 571.12,-55.5 468.62,-55.5\"/>\n",
       "<text xml:space=\"preserve\" text-anchor=\"middle\" x=\"480\" y=\"-68.7\" font-family=\"Times New Roman,serif\" font-size=\"14.00\">d</text>\n",
       "<polyline fill=\"none\" stroke=\"black\" points=\"491.38,-56 491.38,-91.5\"/>\n",
       "<text xml:space=\"preserve\" text-anchor=\"middle\" x=\"531.25\" y=\"-68.7\" font-family=\"Times New Roman,serif\" font-size=\"14.00\">data 4.0000</text>\n",
       "</g>\n",
       "<!-- 2143755349968&#45;&gt;2143796202576* -->\n",
       "<g id=\"edge6\" class=\"edge\">\n",
       "<title>2143755349968&#45;&gt;2143796202576*</title>\n",
       "<path fill=\"none\" stroke=\"black\" d=\"M571.59,-60.97C580.67,-58.73 589.96,-56.44 598.51,-54.33\"/>\n",
       "<polygon fill=\"black\" stroke=\"black\" points=\"599.28,-57.74 608.14,-51.95 597.6,-50.95 599.28,-57.74\"/>\n",
       "</g>\n",
       "<!-- 2143755349968+&#45;&gt;2143755349968 -->\n",
       "<g id=\"edge3\" class=\"edge\">\n",
       "<title>2143755349968+&#45;&gt;2143755349968</title>\n",
       "<path fill=\"none\" stroke=\"black\" d=\"M431.8,-73.5C439.43,-73.5 448.11,-73.5 456.96,-73.5\"/>\n",
       "<polygon fill=\"black\" stroke=\"black\" points=\"456.68,-77 466.68,-73.5 456.68,-70 456.68,-77\"/>\n",
       "</g>\n",
       "</g>\n",
       "</svg>\n"
      ],
      "text/plain": [
       "<graphviz.graphs.Digraph at 0x1f321cfe390>"
      ]
     },
     "execution_count": 43,
     "metadata": {},
     "output_type": "execute_result"
    }
   ],
   "source": [
    "draw_dot(l)"
   ]
  },
  {
   "cell_type": "markdown",
   "id": "d2130ccf-7e29-4c88-816e-f54f37329aa9",
   "metadata": {},
   "source": [
    "NOW WE WILL CONTINUE THE REST OF THE THINGS IN \"karpathy 002\". ALL WHILE COPYING THE MAIN CODES FROM THIS FILE.\n"
   ]
  }
 ],
 "metadata": {
  "kernelspec": {
   "display_name": "Python 3 (ipykernel)",
   "language": "python",
   "name": "python3"
  },
  "language_info": {
   "codemirror_mode": {
    "name": "ipython",
    "version": 3
   },
   "file_extension": ".py",
   "mimetype": "text/x-python",
   "name": "python",
   "nbconvert_exporter": "python",
   "pygments_lexer": "ipython3",
   "version": "3.13.2"
  }
 },
 "nbformat": 4,
 "nbformat_minor": 5
}
