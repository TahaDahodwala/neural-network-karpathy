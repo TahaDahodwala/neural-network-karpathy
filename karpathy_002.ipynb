{
 "cells": [
  {
   "cell_type": "markdown",
   "id": "720d208d-cb4b-410c-89f3-47193006a9a6",
   "metadata": {},
   "source": [
    "LITERALLY JUST COPY PQSTED THE CODE FROM \"karpathy 001\"\n"
   ]
  },
  {
   "cell_type": "markdown",
   "id": "0bfc5525-8d2b-4701-ab0c-bdd77a8beb4b",
   "metadata": {},
   "source": [
    "NOW WE WILL LOOK INTO GRADIENT AND DESCENTS AND THUS START BACK PROPOGATION"
   ]
  },
  {
   "cell_type": "code",
   "execution_count": 50,
   "id": "671b8935-2ba8-4c88-b1d8-eedc815c5b2b",
   "metadata": {},
   "outputs": [],
   "source": [
    "import numpy as np\n",
    "import pandas as pd\n",
    "import matplotlib.pyplot as plt"
   ]
  },
  {
   "cell_type": "code",
   "execution_count": 12,
   "id": "8d63bf55-2331-4434-b16a-a971f309951f",
   "metadata": {},
   "outputs": [
    {
     "data": {
      "text/plain": [
       "'\\ngrad is used for gradient descents and differentiation\\nkept 0 which symbolises that gradient would not have an effect on the output value initially,\\nwhich is noramlly the case in backprop.\\n'"
      ]
     },
     "execution_count": 12,
     "metadata": {},
     "output_type": "execute_result"
    }
   ],
   "source": [
    "class Value:\n",
    "    def __init__(self,data, _children=(), _op = '', label = ''): \n",
    "        self.data = data\n",
    "        self._prev = set(_children)\n",
    "        self._op = _op\n",
    "        self.label = label\n",
    "        self._grad = 0 \n",
    "\n",
    "    def __repr__(self): #If this is not present, the values would be printed out in an ugly manner\n",
    "        return f\"Value(data = {self.data})\"\n",
    "\n",
    "    def __add__(self, other):\n",
    "        out = Value(self.data + other.data, (self, other), '+') #adding and feeding the children and previous values\n",
    "        return out\n",
    "        \n",
    "    def __mul__(self, other):\n",
    "        out = Value(self.data * other.data, (self, other), '*') #adding and feeding the children and previous values\n",
    "        return out\n",
    "\n",
    "a = Value(2.0, label = 'a')\n",
    "b = Value(-3.0, label = 'b')\n",
    "c = Value(10.0, label = 'c')\n",
    "e = a*b; e.label = 'e'\n",
    "d = e + c; d.label = 'd'\n",
    "        \n",
    "# Children keeps track of what values produces what other values\n",
    "# prev is a set that tracks of the previous values\n",
    "# op keeps track of the operations' labels for the user to understand easily\n",
    "# label helps us keep track of variable names \n",
    "'''\n",
    "grad is used for gradient descents and differentiation\n",
    "kept 0 which symbolises that gradient would not have an effect on the output value initially,\n",
    "which is noramlly the case in backprop.\n",
    "''' \n"
   ]
  },
  {
   "cell_type": "code",
   "execution_count": 18,
   "id": "c7070e00-a0a5-413c-a62a-a864ac759213",
   "metadata": {},
   "outputs": [],
   "source": [
    "from graphviz import Digraph\n",
    "\n",
    "def trace(root):\n",
    "    #builds a set of all the nodes and edges in the graph\n",
    "    nodes, edges = set(), set()\n",
    "    def build(v):\n",
    "        if v not in nodes:\n",
    "            nodes.add(v)\n",
    "            for child in v._prev:\n",
    "                edges.add((child, v))\n",
    "                build(child)\n",
    "    build(root)\n",
    "    return nodes, edges\n",
    "\n",
    "def draw_dot(root):\n",
    "    dot = Digraph(format = 'svg', graph_attr = {'rankdir': 'LR'}) #LR - left to right\n",
    "\n",
    "    nodes, edges= trace(root)\n",
    "    for n in nodes:\n",
    "        uid = str(id(n))\n",
    "        #for value in the graph, create a rectangular record for it\n",
    "        dot.node(name = uid, label = \"{ %s | data %.4f | grad %.4f}\" % (n.label, n.data, n._grad), shape = 'record')\n",
    "\n",
    "        if n._op:\n",
    "            # if this value is a result of some operation, create a node for it\n",
    "            dot.node(name = uid + n._op, label = n._op)\n",
    "            #and connect this with an edge\n",
    "            dot.edge(uid + n._op, uid)\n",
    "\n",
    "    for n1, n2 in edges:\n",
    "        #connecting n1 to the op node of n2\n",
    "        dot.edge(str(id(n1)), str(id(n2)) + n2._op)\n",
    "\n",
    "    return dot"
   ]
  },
  {
   "cell_type": "code",
   "execution_count": 14,
   "id": "90f5f9de-817e-42e5-ba47-4f22e2f5fc87",
   "metadata": {},
   "outputs": [
    {
     "data": {
      "text/plain": [
       "Value(data = -8.0)"
      ]
     },
     "execution_count": 14,
     "metadata": {},
     "output_type": "execute_result"
    }
   ],
   "source": [
    "f = Value(-2.0, label = 'f')\n",
    "l = d * f; l.label = 'L'\n",
    "l"
   ]
  },
  {
   "cell_type": "code",
   "execution_count": 19,
   "id": "d0b42345-2d95-49d1-b0ff-fffa22a9cd13",
   "metadata": {},
   "outputs": [
    {
     "data": {
      "image/svg+xml": [
       "<?xml version=\"1.0\" encoding=\"UTF-8\" standalone=\"no\"?>\n",
       "<!DOCTYPE svg PUBLIC \"-//W3C//DTD SVG 1.1//EN\"\n",
       " \"http://www.w3.org/Graphics/SVG/1.1/DTD/svg11.dtd\">\n",
       "<!-- Generated by graphviz version 13.0.1 (20250615.1724)\n",
       " -->\n",
       "<!-- Pages: 1 -->\n",
       "<svg width=\"1140pt\" height=\"156pt\"\n",
       " viewBox=\"0.00 0.00 1140.00 156.00\" xmlns=\"http://www.w3.org/2000/svg\" xmlns:xlink=\"http://www.w3.org/1999/xlink\">\n",
       "<g id=\"graph0\" class=\"graph\" transform=\"scale(1 1) rotate(0) translate(4 152)\">\n",
       "<polygon fill=\"white\" stroke=\"none\" points=\"-4,4 -4,-152 1135.75,-152 1135.75,4 -4,4\"/>\n",
       "<!-- 2784839546384 -->\n",
       "<g id=\"node1\" class=\"node\">\n",
       "<title>2784839546384</title>\n",
       "<polygon fill=\"none\" stroke=\"black\" points=\"0,-111.5 0,-147.5 188.25,-147.5 188.25,-111.5 0,-111.5\"/>\n",
       "<text xml:space=\"preserve\" text-anchor=\"middle\" x=\"11.38\" y=\"-124.7\" font-family=\"Times New Roman,serif\" font-size=\"14.00\">b</text>\n",
       "<polyline fill=\"none\" stroke=\"black\" points=\"22.75,-112 22.75,-147.5\"/>\n",
       "<text xml:space=\"preserve\" text-anchor=\"middle\" x=\"64.88\" y=\"-124.7\" font-family=\"Times New Roman,serif\" font-size=\"14.00\">data &#45;3.0000</text>\n",
       "<polyline fill=\"none\" stroke=\"black\" points=\"107,-112 107,-147.5\"/>\n",
       "<text xml:space=\"preserve\" text-anchor=\"middle\" x=\"147.62\" y=\"-124.7\" font-family=\"Times New Roman,serif\" font-size=\"14.00\">grad 0.0000</text>\n",
       "</g>\n",
       "<!-- 2784842059408* -->\n",
       "<g id=\"node4\" class=\"node\">\n",
       "<title>2784842059408*</title>\n",
       "<ellipse fill=\"none\" stroke=\"black\" cx=\"251.25\" cy=\"-101.5\" rx=\"27\" ry=\"18\"/>\n",
       "<text xml:space=\"preserve\" text-anchor=\"middle\" x=\"251.25\" y=\"-96.45\" font-family=\"Times New Roman,serif\" font-size=\"14.00\">*</text>\n",
       "</g>\n",
       "<!-- 2784839546384&#45;&gt;2784842059408* -->\n",
       "<g id=\"edge9\" class=\"edge\">\n",
       "<title>2784839546384&#45;&gt;2784842059408*</title>\n",
       "<path fill=\"none\" stroke=\"black\" d=\"M188.49,-112.65C197.36,-111.05 205.93,-109.5 213.73,-108.09\"/>\n",
       "<polygon fill=\"black\" stroke=\"black\" points=\"214.2,-111.56 223.42,-106.34 212.95,-104.68 214.2,-111.56\"/>\n",
       "</g>\n",
       "<!-- 2784853693520 -->\n",
       "<g id=\"node2\" class=\"node\">\n",
       "<title>2784853693520</title>\n",
       "<polygon fill=\"none\" stroke=\"black\" points=\"314.25,-28.5 314.25,-64.5 504,-64.5 504,-28.5 314.25,-28.5\"/>\n",
       "<text xml:space=\"preserve\" text-anchor=\"middle\" x=\"325.25\" y=\"-41.7\" font-family=\"Times New Roman,serif\" font-size=\"14.00\">c</text>\n",
       "<polyline fill=\"none\" stroke=\"black\" points=\"336.25,-29 336.25,-64.5\"/>\n",
       "<text xml:space=\"preserve\" text-anchor=\"middle\" x=\"379.5\" y=\"-41.7\" font-family=\"Times New Roman,serif\" font-size=\"14.00\">data 10.0000</text>\n",
       "<polyline fill=\"none\" stroke=\"black\" points=\"422.75,-29 422.75,-64.5\"/>\n",
       "<text xml:space=\"preserve\" text-anchor=\"middle\" x=\"463.38\" y=\"-41.7\" font-family=\"Times New Roman,serif\" font-size=\"14.00\">grad 0.0000</text>\n",
       "</g>\n",
       "<!-- 2784842058192+ -->\n",
       "<g id=\"node10\" class=\"node\">\n",
       "<title>2784842058192+</title>\n",
       "<ellipse fill=\"none\" stroke=\"black\" cx=\"567\" cy=\"-73.5\" rx=\"27\" ry=\"18\"/>\n",
       "<text xml:space=\"preserve\" text-anchor=\"middle\" x=\"567\" y=\"-68.45\" font-family=\"Times New Roman,serif\" font-size=\"14.00\">+</text>\n",
       "</g>\n",
       "<!-- 2784853693520&#45;&gt;2784842058192+ -->\n",
       "<g id=\"edge7\" class=\"edge\">\n",
       "<title>2784853693520&#45;&gt;2784842058192+</title>\n",
       "<path fill=\"none\" stroke=\"black\" d=\"M504.39,-62.83C513.16,-64.35 521.65,-65.82 529.37,-67.15\"/>\n",
       "<polygon fill=\"black\" stroke=\"black\" points=\"528.5,-70.56 538.95,-68.81 529.69,-63.66 528.5,-70.56\"/>\n",
       "</g>\n",
       "<!-- 2784842059408 -->\n",
       "<g id=\"node3\" class=\"node\">\n",
       "<title>2784842059408</title>\n",
       "<polygon fill=\"none\" stroke=\"black\" points=\"315.38,-83.5 315.38,-119.5 502.88,-119.5 502.88,-83.5 315.38,-83.5\"/>\n",
       "<text xml:space=\"preserve\" text-anchor=\"middle\" x=\"326.38\" y=\"-96.7\" font-family=\"Times New Roman,serif\" font-size=\"14.00\">e</text>\n",
       "<polyline fill=\"none\" stroke=\"black\" points=\"337.38,-84 337.38,-119.5\"/>\n",
       "<text xml:space=\"preserve\" text-anchor=\"middle\" x=\"379.5\" y=\"-96.7\" font-family=\"Times New Roman,serif\" font-size=\"14.00\">data &#45;6.0000</text>\n",
       "<polyline fill=\"none\" stroke=\"black\" points=\"421.62,-84 421.62,-119.5\"/>\n",
       "<text xml:space=\"preserve\" text-anchor=\"middle\" x=\"462.25\" y=\"-96.7\" font-family=\"Times New Roman,serif\" font-size=\"14.00\">grad 0.0000</text>\n",
       "</g>\n",
       "<!-- 2784842059408&#45;&gt;2784842058192+ -->\n",
       "<g id=\"edge5\" class=\"edge\">\n",
       "<title>2784842059408&#45;&gt;2784842058192+</title>\n",
       "<path fill=\"none\" stroke=\"black\" d=\"M503.05,-84.81C512.25,-83.16 521.16,-81.56 529.24,-80.1\"/>\n",
       "<polygon fill=\"black\" stroke=\"black\" points=\"529.71,-83.58 538.93,-78.36 528.47,-76.69 529.71,-83.58\"/>\n",
       "</g>\n",
       "<!-- 2784842059408*&#45;&gt;2784842059408 -->\n",
       "<g id=\"edge1\" class=\"edge\">\n",
       "<title>2784842059408*&#45;&gt;2784842059408</title>\n",
       "<path fill=\"none\" stroke=\"black\" d=\"M278.69,-101.5C286.1,-101.5 294.64,-101.5 303.71,-101.5\"/>\n",
       "<polygon fill=\"black\" stroke=\"black\" points=\"303.51,-105 313.51,-101.5 303.51,-98 303.51,-105\"/>\n",
       "</g>\n",
       "<!-- 2784841587344 -->\n",
       "<g id=\"node5\" class=\"node\">\n",
       "<title>2784841587344</title>\n",
       "<polygon fill=\"none\" stroke=\"black\" points=\"2.62,-56.5 2.62,-92.5 185.62,-92.5 185.62,-56.5 2.62,-56.5\"/>\n",
       "<text xml:space=\"preserve\" text-anchor=\"middle\" x=\"13.62\" y=\"-69.7\" font-family=\"Times New Roman,serif\" font-size=\"14.00\">a</text>\n",
       "<polyline fill=\"none\" stroke=\"black\" points=\"24.62,-57 24.62,-92.5\"/>\n",
       "<text xml:space=\"preserve\" text-anchor=\"middle\" x=\"64.5\" y=\"-69.7\" font-family=\"Times New Roman,serif\" font-size=\"14.00\">data 2.0000</text>\n",
       "<polyline fill=\"none\" stroke=\"black\" points=\"104.38,-57 104.38,-92.5\"/>\n",
       "<text xml:space=\"preserve\" text-anchor=\"middle\" x=\"145\" y=\"-69.7\" font-family=\"Times New Roman,serif\" font-size=\"14.00\">grad 0.0000</text>\n",
       "</g>\n",
       "<!-- 2784841587344&#45;&gt;2784842059408* -->\n",
       "<g id=\"edge6\" class=\"edge\">\n",
       "<title>2784841587344&#45;&gt;2784842059408*</title>\n",
       "<path fill=\"none\" stroke=\"black\" d=\"M185.81,-90.28C195.45,-91.96 204.82,-93.59 213.29,-95.07\"/>\n",
       "<polygon fill=\"black\" stroke=\"black\" points=\"212.65,-98.51 223.1,-96.77 213.85,-91.61 212.65,-98.51\"/>\n",
       "</g>\n",
       "<!-- 2784853926128 -->\n",
       "<g id=\"node6\" class=\"node\">\n",
       "<title>2784853926128</title>\n",
       "<polygon fill=\"none\" stroke=\"black\" points=\"630,-0.5 630,-36.5 816,-36.5 816,-0.5 630,-0.5\"/>\n",
       "<text xml:space=\"preserve\" text-anchor=\"middle\" x=\"640.25\" y=\"-13.7\" font-family=\"Times New Roman,serif\" font-size=\"14.00\">f</text>\n",
       "<polyline fill=\"none\" stroke=\"black\" points=\"650.5,-1 650.5,-36.5\"/>\n",
       "<text xml:space=\"preserve\" text-anchor=\"middle\" x=\"692.62\" y=\"-13.7\" font-family=\"Times New Roman,serif\" font-size=\"14.00\">data &#45;2.0000</text>\n",
       "<polyline fill=\"none\" stroke=\"black\" points=\"734.75,-1 734.75,-36.5\"/>\n",
       "<text xml:space=\"preserve\" text-anchor=\"middle\" x=\"775.38\" y=\"-13.7\" font-family=\"Times New Roman,serif\" font-size=\"14.00\">grad 0.0000</text>\n",
       "</g>\n",
       "<!-- 2784841364304* -->\n",
       "<g id=\"node8\" class=\"node\">\n",
       "<title>2784841364304*</title>\n",
       "<ellipse fill=\"none\" stroke=\"black\" cx=\"879\" cy=\"-45.5\" rx=\"27\" ry=\"18\"/>\n",
       "<text xml:space=\"preserve\" text-anchor=\"middle\" x=\"879\" y=\"-40.45\" font-family=\"Times New Roman,serif\" font-size=\"14.00\">*</text>\n",
       "</g>\n",
       "<!-- 2784853926128&#45;&gt;2784841364304* -->\n",
       "<g id=\"edge8\" class=\"edge\">\n",
       "<title>2784853926128&#45;&gt;2784841364304*</title>\n",
       "<path fill=\"none\" stroke=\"black\" d=\"M816.25,-34.67C825.01,-36.21 833.5,-37.7 841.24,-39.05\"/>\n",
       "<polygon fill=\"black\" stroke=\"black\" points=\"840.39,-42.46 850.84,-40.74 841.6,-35.56 840.39,-42.46\"/>\n",
       "</g>\n",
       "<!-- 2784841364304 -->\n",
       "<g id=\"node7\" class=\"node\">\n",
       "<title>2784841364304</title>\n",
       "<polygon fill=\"none\" stroke=\"black\" points=\"942,-27.5 942,-63.5 1131.75,-63.5 1131.75,-27.5 942,-27.5\"/>\n",
       "<text xml:space=\"preserve\" text-anchor=\"middle\" x=\"954.12\" y=\"-40.7\" font-family=\"Times New Roman,serif\" font-size=\"14.00\">L</text>\n",
       "<polyline fill=\"none\" stroke=\"black\" points=\"966.25,-28 966.25,-63.5\"/>\n",
       "<text xml:space=\"preserve\" text-anchor=\"middle\" x=\"1008.38\" y=\"-40.7\" font-family=\"Times New Roman,serif\" font-size=\"14.00\">data &#45;8.0000</text>\n",
       "<polyline fill=\"none\" stroke=\"black\" points=\"1050.5,-28 1050.5,-63.5\"/>\n",
       "<text xml:space=\"preserve\" text-anchor=\"middle\" x=\"1091.12\" y=\"-40.7\" font-family=\"Times New Roman,serif\" font-size=\"14.00\">grad 0.0000</text>\n",
       "</g>\n",
       "<!-- 2784841364304*&#45;&gt;2784841364304 -->\n",
       "<g id=\"edge2\" class=\"edge\">\n",
       "<title>2784841364304*&#45;&gt;2784841364304</title>\n",
       "<path fill=\"none\" stroke=\"black\" d=\"M906.44,-45.5C913.59,-45.5 921.78,-45.5 930.49,-45.5\"/>\n",
       "<polygon fill=\"black\" stroke=\"black\" points=\"930.26,-49 940.26,-45.5 930.26,-42 930.26,-49\"/>\n",
       "</g>\n",
       "<!-- 2784842058192 -->\n",
       "<g id=\"node9\" class=\"node\">\n",
       "<title>2784842058192</title>\n",
       "<polygon fill=\"none\" stroke=\"black\" points=\"631.12,-55.5 631.12,-91.5 814.88,-91.5 814.88,-55.5 631.12,-55.5\"/>\n",
       "<text xml:space=\"preserve\" text-anchor=\"middle\" x=\"642.5\" y=\"-68.7\" font-family=\"Times New Roman,serif\" font-size=\"14.00\">d</text>\n",
       "<polyline fill=\"none\" stroke=\"black\" points=\"653.88,-56 653.88,-91.5\"/>\n",
       "<text xml:space=\"preserve\" text-anchor=\"middle\" x=\"693.75\" y=\"-68.7\" font-family=\"Times New Roman,serif\" font-size=\"14.00\">data 4.0000</text>\n",
       "<polyline fill=\"none\" stroke=\"black\" points=\"733.62,-56 733.62,-91.5\"/>\n",
       "<text xml:space=\"preserve\" text-anchor=\"middle\" x=\"774.25\" y=\"-68.7\" font-family=\"Times New Roman,serif\" font-size=\"14.00\">grad 0.0000</text>\n",
       "</g>\n",
       "<!-- 2784842058192&#45;&gt;2784841364304* -->\n",
       "<g id=\"edge4\" class=\"edge\">\n",
       "<title>2784842058192&#45;&gt;2784841364304*</title>\n",
       "<path fill=\"none\" stroke=\"black\" d=\"M815.36,-56.89C824.5,-55.23 833.36,-53.62 841.4,-52.15\"/>\n",
       "<polygon fill=\"black\" stroke=\"black\" points=\"841.83,-55.63 851.04,-50.4 840.57,-48.75 841.83,-55.63\"/>\n",
       "</g>\n",
       "<!-- 2784842058192+&#45;&gt;2784842058192 -->\n",
       "<g id=\"edge3\" class=\"edge\">\n",
       "<title>2784842058192+&#45;&gt;2784842058192</title>\n",
       "<path fill=\"none\" stroke=\"black\" d=\"M594.47,-73.5C601.87,-73.5 610.38,-73.5 619.43,-73.5\"/>\n",
       "<polygon fill=\"black\" stroke=\"black\" points=\"619.17,-77 629.17,-73.5 619.17,-70 619.17,-77\"/>\n",
       "</g>\n",
       "</g>\n",
       "</svg>\n"
      ],
      "text/plain": [
       "<graphviz.graphs.Digraph at 0x28865e95bd0>"
      ]
     },
     "execution_count": 19,
     "metadata": {},
     "output_type": "execute_result"
    }
   ],
   "source": [
    "draw_dot(l)"
   ]
  },
  {
   "cell_type": "markdown",
   "id": "ecc964b8-5936-449e-b88f-8706aa7aa9c4",
   "metadata": {},
   "source": [
    "NOW WE CALCULATE BACKPROPOGATION!!\n"
   ]
  },
  {
   "cell_type": "markdown",
   "id": "d8cf508b-c313-4066-af7c-2a4e3496fbe1",
   "metadata": {},
   "source": [
    "# Heading 2\n",
    "TO PROPERLY UNDERSTAND, WE WILL DO THEM ONE BY ONE.\n",
    "\n",
    "CHANGE EVERY VARIABLE'S VALUES BY \"H\" ONE BY ONE. AND CALCULATE GRADIENTS.\n",
    "\n",
    "THIS WILL BE THEN EASILY CALCULATED BY ASSIGNING THEM INTO A FUNCTION FOR SEPARATE OPERATIONS LIKE \"+\" AND \"*\" "
   ]
  },
  {
   "cell_type": "code",
   "execution_count": 51,
   "id": "567b7ddf-65f5-4a8b-8bb4-945d1e9bb864",
   "metadata": {},
   "outputs": [],
   "source": [
    "def lol():\n",
    "    a = Value(2.0, label = 'a')\n",
    "    b = Value(-3.0, label = 'b')\n",
    "    c = Value(10.0, label = 'c')\n",
    "    e = a*b; e.label = 'e'\n",
    "    d = e + c; d.label = 'd'\n",
    "    f = Value(-2.0, label = 'f')\n",
    "    l = d * f; l.label = 'L'\n",
    "\n",
    "    L1 = l.data\n",
    "\n",
    "    h = 0.001\n",
    "    a = Value(2.0, label = 'a')\n",
    "    #a += Value(h) # derivative of L wrt to a\n",
    "    b = Value(-3.0, label = 'b')\n",
    "    b += Value(h) # derivative of L wrt to b\n",
    "    c = Value(10.0, label = 'c')\n",
    "    #c += Value(h) # derivative of L wrt to a\n",
    "    e = a*b; e.label = 'e'\n",
    "    #e += Value(h) # derivative of L wrt to e\n",
    "    d = e + c; d.label = 'd'\n",
    "    #d += Value(h) # derivative of L wrt to d\n",
    "    f = Value(-2.0, label = 'f')\n",
    "    #f += Value(h) # derivative of L wrt to f\n",
    "    l = d * f; l.label = 'L'\n",
    "    #l += Value(h) # derivative of L wrt to l\n",
    "\n",
    "    L2 = l.data\n",
    "\n",
    "    print((L2 - L1) / h)"
   ]
  },
  {
   "cell_type": "code",
   "execution_count": 49,
   "id": "10ef4575-f5df-4a3b-ba81-b071bce70590",
   "metadata": {},
   "outputs": [
    {
     "name": "stdout",
     "output_type": "stream",
     "text": [
      "6.000000000000227\n"
     ]
    }
   ],
   "source": [
    "lol() #derivative wrt a"
   ]
  },
  {
   "cell_type": "code",
   "execution_count": 52,
   "id": "e7c072a1-31d1-46b5-ad51-936a948716ee",
   "metadata": {},
   "outputs": [
    {
     "name": "stdout",
     "output_type": "stream",
     "text": [
      "-3.9999999999995595\n"
     ]
    }
   ],
   "source": [
    "lol()#derivative wrt b"
   ]
  },
  {
   "cell_type": "code",
   "execution_count": 33,
   "id": "f0acb291-2393-4489-b76a-d1e58b601d31",
   "metadata": {},
   "outputs": [
    {
     "name": "stdout",
     "output_type": "stream",
     "text": [
      "-1.9999999999953388\n"
     ]
    }
   ],
   "source": [
    "lol()#derivative wrt c"
   ]
  },
  {
   "cell_type": "code",
   "execution_count": 35,
   "id": "0ef9ab79-e285-4d2c-b3bd-40fa4495ddf3",
   "metadata": {},
   "outputs": [
    {
     "name": "stdout",
     "output_type": "stream",
     "text": [
      "-1.9999999999953388\n"
     ]
    }
   ],
   "source": [
    "lol()#derivative wrt e"
   ]
  },
  {
   "cell_type": "code",
   "execution_count": 37,
   "id": "04d72dce-4129-4b26-9287-a4a8677250b0",
   "metadata": {},
   "outputs": [
    {
     "name": "stdout",
     "output_type": "stream",
     "text": [
      "-1.9999999999953388\n"
     ]
    }
   ],
   "source": [
    "lol()#derivative wrt d"
   ]
  },
  {
   "cell_type": "code",
   "execution_count": 39,
   "id": "83a0d4ce-f9f3-4819-a7b4-408b6664943a",
   "metadata": {},
   "outputs": [
    {
     "name": "stdout",
     "output_type": "stream",
     "text": [
      "3.9999999999995595\n"
     ]
    }
   ],
   "source": [
    "lol()#derivative wrt f"
   ]
  },
  {
   "cell_type": "code",
   "execution_count": 41,
   "id": "87811e4b-b242-4335-827a-53ed9a9a16fb",
   "metadata": {},
   "outputs": [
    {
     "name": "stdout",
     "output_type": "stream",
     "text": [
      "0.9999999999976694\n"
     ]
    }
   ],
   "source": [
    "lol()#derivative wrt l"
   ]
  },
  {
   "cell_type": "markdown",
   "id": "4f0420c2-073f-494a-8717-bba3f664b7be",
   "metadata": {},
   "source": [
    "MANUALLY SETTING EVERYONE'S GRADIENT"
   ]
  },
  {
   "cell_type": "code",
   "execution_count": 46,
   "id": "7657d4eb-e414-4313-86ea-6c119dc9e808",
   "metadata": {},
   "outputs": [],
   "source": [
    "a._grad = 6.0\n",
    "b._grad = -4.0\n",
    "c._grad = -2.0\n",
    "e._grad = -2.0\n",
    "d._grad = -2.0\n",
    "f._grad = 4.0\n",
    "l._grad = 1.0"
   ]
  },
  {
   "cell_type": "code",
   "execution_count": 47,
   "id": "10e42d90-40b6-4100-9860-53e4e944c667",
   "metadata": {},
   "outputs": [
    {
     "data": {
      "image/svg+xml": [
       "<?xml version=\"1.0\" encoding=\"UTF-8\" standalone=\"no\"?>\n",
       "<!DOCTYPE svg PUBLIC \"-//W3C//DTD SVG 1.1//EN\"\n",
       " \"http://www.w3.org/Graphics/SVG/1.1/DTD/svg11.dtd\">\n",
       "<!-- Generated by graphviz version 13.0.1 (20250615.1724)\n",
       " -->\n",
       "<!-- Pages: 1 -->\n",
       "<svg width=\"1151pt\" height=\"156pt\"\n",
       " viewBox=\"0.00 0.00 1151.00 156.00\" xmlns=\"http://www.w3.org/2000/svg\" xmlns:xlink=\"http://www.w3.org/1999/xlink\">\n",
       "<g id=\"graph0\" class=\"graph\" transform=\"scale(1 1) rotate(0) translate(4 152)\">\n",
       "<polygon fill=\"white\" stroke=\"none\" points=\"-4,4 -4,-152 1147,-152 1147,4 -4,4\"/>\n",
       "<!-- 2784839546384 -->\n",
       "<g id=\"node1\" class=\"node\">\n",
       "<title>2784839546384</title>\n",
       "<polygon fill=\"none\" stroke=\"black\" points=\"0,-111.5 0,-147.5 192.75,-147.5 192.75,-111.5 0,-111.5\"/>\n",
       "<text xml:space=\"preserve\" text-anchor=\"middle\" x=\"11.38\" y=\"-124.7\" font-family=\"Times New Roman,serif\" font-size=\"14.00\">b</text>\n",
       "<polyline fill=\"none\" stroke=\"black\" points=\"22.75,-112 22.75,-147.5\"/>\n",
       "<text xml:space=\"preserve\" text-anchor=\"middle\" x=\"64.88\" y=\"-124.7\" font-family=\"Times New Roman,serif\" font-size=\"14.00\">data &#45;3.0000</text>\n",
       "<polyline fill=\"none\" stroke=\"black\" points=\"107,-112 107,-147.5\"/>\n",
       "<text xml:space=\"preserve\" text-anchor=\"middle\" x=\"149.88\" y=\"-124.7\" font-family=\"Times New Roman,serif\" font-size=\"14.00\">grad &#45;4.0000</text>\n",
       "</g>\n",
       "<!-- 2784842059408* -->\n",
       "<g id=\"node4\" class=\"node\">\n",
       "<title>2784842059408*</title>\n",
       "<ellipse fill=\"none\" stroke=\"black\" cx=\"255.75\" cy=\"-101.5\" rx=\"27\" ry=\"18\"/>\n",
       "<text xml:space=\"preserve\" text-anchor=\"middle\" x=\"255.75\" y=\"-96.45\" font-family=\"Times New Roman,serif\" font-size=\"14.00\">*</text>\n",
       "</g>\n",
       "<!-- 2784839546384&#45;&gt;2784842059408* -->\n",
       "<g id=\"edge9\" class=\"edge\">\n",
       "<title>2784839546384&#45;&gt;2784842059408*</title>\n",
       "<path fill=\"none\" stroke=\"black\" d=\"M193,-112.49C201.81,-110.92 210.32,-109.41 218.06,-108.03\"/>\n",
       "<polygon fill=\"black\" stroke=\"black\" points=\"218.43,-111.52 227.66,-106.32 217.21,-104.62 218.43,-111.52\"/>\n",
       "</g>\n",
       "<!-- 2784853693520 -->\n",
       "<g id=\"node2\" class=\"node\">\n",
       "<title>2784853693520</title>\n",
       "<polygon fill=\"none\" stroke=\"black\" points=\"318.75,-28.5 318.75,-64.5 513,-64.5 513,-28.5 318.75,-28.5\"/>\n",
       "<text xml:space=\"preserve\" text-anchor=\"middle\" x=\"329.75\" y=\"-41.7\" font-family=\"Times New Roman,serif\" font-size=\"14.00\">c</text>\n",
       "<polyline fill=\"none\" stroke=\"black\" points=\"340.75,-29 340.75,-64.5\"/>\n",
       "<text xml:space=\"preserve\" text-anchor=\"middle\" x=\"384\" y=\"-41.7\" font-family=\"Times New Roman,serif\" font-size=\"14.00\">data 10.0000</text>\n",
       "<polyline fill=\"none\" stroke=\"black\" points=\"427.25,-29 427.25,-64.5\"/>\n",
       "<text xml:space=\"preserve\" text-anchor=\"middle\" x=\"470.12\" y=\"-41.7\" font-family=\"Times New Roman,serif\" font-size=\"14.00\">grad &#45;2.0000</text>\n",
       "</g>\n",
       "<!-- 2784842058192+ -->\n",
       "<g id=\"node10\" class=\"node\">\n",
       "<title>2784842058192+</title>\n",
       "<ellipse fill=\"none\" stroke=\"black\" cx=\"576\" cy=\"-73.5\" rx=\"27\" ry=\"18\"/>\n",
       "<text xml:space=\"preserve\" text-anchor=\"middle\" x=\"576\" y=\"-68.45\" font-family=\"Times New Roman,serif\" font-size=\"14.00\">+</text>\n",
       "</g>\n",
       "<!-- 2784853693520&#45;&gt;2784842058192+ -->\n",
       "<g id=\"edge7\" class=\"edge\">\n",
       "<title>2784853693520&#45;&gt;2784842058192+</title>\n",
       "<path fill=\"none\" stroke=\"black\" d=\"M513.41,-62.98C522.1,-64.47 530.5,-65.9 538.15,-67.21\"/>\n",
       "<polygon fill=\"black\" stroke=\"black\" points=\"537.55,-70.66 548,-68.89 538.73,-63.76 537.55,-70.66\"/>\n",
       "</g>\n",
       "<!-- 2784842059408 -->\n",
       "<g id=\"node3\" class=\"node\">\n",
       "<title>2784842059408</title>\n",
       "<polygon fill=\"none\" stroke=\"black\" points=\"319.88,-83.5 319.88,-119.5 511.88,-119.5 511.88,-83.5 319.88,-83.5\"/>\n",
       "<text xml:space=\"preserve\" text-anchor=\"middle\" x=\"330.88\" y=\"-96.7\" font-family=\"Times New Roman,serif\" font-size=\"14.00\">e</text>\n",
       "<polyline fill=\"none\" stroke=\"black\" points=\"341.88,-84 341.88,-119.5\"/>\n",
       "<text xml:space=\"preserve\" text-anchor=\"middle\" x=\"384\" y=\"-96.7\" font-family=\"Times New Roman,serif\" font-size=\"14.00\">data &#45;6.0000</text>\n",
       "<polyline fill=\"none\" stroke=\"black\" points=\"426.12,-84 426.12,-119.5\"/>\n",
       "<text xml:space=\"preserve\" text-anchor=\"middle\" x=\"469\" y=\"-96.7\" font-family=\"Times New Roman,serif\" font-size=\"14.00\">grad &#45;2.0000</text>\n",
       "</g>\n",
       "<!-- 2784842059408&#45;&gt;2784842058192+ -->\n",
       "<g id=\"edge5\" class=\"edge\">\n",
       "<title>2784842059408&#45;&gt;2784842058192+</title>\n",
       "<path fill=\"none\" stroke=\"black\" d=\"M512.05,-84.65C521.28,-83.01 530.2,-81.43 538.29,-80\"/>\n",
       "<polygon fill=\"black\" stroke=\"black\" points=\"538.74,-83.47 547.98,-78.28 537.52,-76.58 538.74,-83.47\"/>\n",
       "</g>\n",
       "<!-- 2784842059408*&#45;&gt;2784842059408 -->\n",
       "<g id=\"edge1\" class=\"edge\">\n",
       "<title>2784842059408*&#45;&gt;2784842059408</title>\n",
       "<path fill=\"none\" stroke=\"black\" d=\"M283.22,-101.5C290.59,-101.5 299.09,-101.5 308.13,-101.5\"/>\n",
       "<polygon fill=\"black\" stroke=\"black\" points=\"307.89,-105 317.89,-101.5 307.89,-98 307.89,-105\"/>\n",
       "</g>\n",
       "<!-- 2784841587344 -->\n",
       "<g id=\"node5\" class=\"node\">\n",
       "<title>2784841587344</title>\n",
       "<polygon fill=\"none\" stroke=\"black\" points=\"4.88,-56.5 4.88,-92.5 187.88,-92.5 187.88,-56.5 4.88,-56.5\"/>\n",
       "<text xml:space=\"preserve\" text-anchor=\"middle\" x=\"15.88\" y=\"-69.7\" font-family=\"Times New Roman,serif\" font-size=\"14.00\">a</text>\n",
       "<polyline fill=\"none\" stroke=\"black\" points=\"26.88,-57 26.88,-92.5\"/>\n",
       "<text xml:space=\"preserve\" text-anchor=\"middle\" x=\"66.75\" y=\"-69.7\" font-family=\"Times New Roman,serif\" font-size=\"14.00\">data 2.0000</text>\n",
       "<polyline fill=\"none\" stroke=\"black\" points=\"106.62,-57 106.62,-92.5\"/>\n",
       "<text xml:space=\"preserve\" text-anchor=\"middle\" x=\"147.25\" y=\"-69.7\" font-family=\"Times New Roman,serif\" font-size=\"14.00\">grad 6.0000</text>\n",
       "</g>\n",
       "<!-- 2784841587344&#45;&gt;2784842059408* -->\n",
       "<g id=\"edge6\" class=\"edge\">\n",
       "<title>2784841587344&#45;&gt;2784842059408*</title>\n",
       "<path fill=\"none\" stroke=\"black\" d=\"M188.01,-90.05C198.46,-91.84 208.62,-93.59 217.74,-95.15\"/>\n",
       "<polygon fill=\"black\" stroke=\"black\" points=\"217.11,-98.59 227.56,-96.84 218.3,-91.69 217.11,-98.59\"/>\n",
       "</g>\n",
       "<!-- 2784853926128 -->\n",
       "<g id=\"node6\" class=\"node\">\n",
       "<title>2784853926128</title>\n",
       "<polygon fill=\"none\" stroke=\"black\" points=\"640.12,-0.5 640.12,-36.5 826.12,-36.5 826.12,-0.5 640.12,-0.5\"/>\n",
       "<text xml:space=\"preserve\" text-anchor=\"middle\" x=\"650.38\" y=\"-13.7\" font-family=\"Times New Roman,serif\" font-size=\"14.00\">f</text>\n",
       "<polyline fill=\"none\" stroke=\"black\" points=\"660.62,-1 660.62,-36.5\"/>\n",
       "<text xml:space=\"preserve\" text-anchor=\"middle\" x=\"702.75\" y=\"-13.7\" font-family=\"Times New Roman,serif\" font-size=\"14.00\">data &#45;2.0000</text>\n",
       "<polyline fill=\"none\" stroke=\"black\" points=\"744.88,-1 744.88,-36.5\"/>\n",
       "<text xml:space=\"preserve\" text-anchor=\"middle\" x=\"785.5\" y=\"-13.7\" font-family=\"Times New Roman,serif\" font-size=\"14.00\">grad 4.0000</text>\n",
       "</g>\n",
       "<!-- 2784841364304* -->\n",
       "<g id=\"node8\" class=\"node\">\n",
       "<title>2784841364304*</title>\n",
       "<ellipse fill=\"none\" stroke=\"black\" cx=\"890.25\" cy=\"-45.5\" rx=\"27\" ry=\"18\"/>\n",
       "<text xml:space=\"preserve\" text-anchor=\"middle\" x=\"890.25\" y=\"-40.45\" font-family=\"Times New Roman,serif\" font-size=\"14.00\">*</text>\n",
       "</g>\n",
       "<!-- 2784853926128&#45;&gt;2784841364304* -->\n",
       "<g id=\"edge8\" class=\"edge\">\n",
       "<title>2784853926128&#45;&gt;2784841364304*</title>\n",
       "<path fill=\"none\" stroke=\"black\" d=\"M826.6,-34.6C835.76,-36.19 844.62,-37.73 852.67,-39.13\"/>\n",
       "<polygon fill=\"black\" stroke=\"black\" points=\"851.85,-42.54 862.3,-40.81 853.05,-35.65 851.85,-42.54\"/>\n",
       "</g>\n",
       "<!-- 2784841364304 -->\n",
       "<g id=\"node7\" class=\"node\">\n",
       "<title>2784841364304</title>\n",
       "<polygon fill=\"none\" stroke=\"black\" points=\"953.25,-27.5 953.25,-63.5 1143,-63.5 1143,-27.5 953.25,-27.5\"/>\n",
       "<text xml:space=\"preserve\" text-anchor=\"middle\" x=\"965.38\" y=\"-40.7\" font-family=\"Times New Roman,serif\" font-size=\"14.00\">L</text>\n",
       "<polyline fill=\"none\" stroke=\"black\" points=\"977.5,-28 977.5,-63.5\"/>\n",
       "<text xml:space=\"preserve\" text-anchor=\"middle\" x=\"1019.62\" y=\"-40.7\" font-family=\"Times New Roman,serif\" font-size=\"14.00\">data &#45;8.0000</text>\n",
       "<polyline fill=\"none\" stroke=\"black\" points=\"1061.75,-28 1061.75,-63.5\"/>\n",
       "<text xml:space=\"preserve\" text-anchor=\"middle\" x=\"1102.38\" y=\"-40.7\" font-family=\"Times New Roman,serif\" font-size=\"14.00\">grad 1.0000</text>\n",
       "</g>\n",
       "<!-- 2784841364304*&#45;&gt;2784841364304 -->\n",
       "<g id=\"edge2\" class=\"edge\">\n",
       "<title>2784841364304*&#45;&gt;2784841364304</title>\n",
       "<path fill=\"none\" stroke=\"black\" d=\"M917.69,-45.5C924.84,-45.5 933.03,-45.5 941.74,-45.5\"/>\n",
       "<polygon fill=\"black\" stroke=\"black\" points=\"941.51,-49 951.51,-45.5 941.51,-42 941.51,-49\"/>\n",
       "</g>\n",
       "<!-- 2784842058192 -->\n",
       "<g id=\"node9\" class=\"node\">\n",
       "<title>2784842058192</title>\n",
       "<polygon fill=\"none\" stroke=\"black\" points=\"639,-55.5 639,-91.5 827.25,-91.5 827.25,-55.5 639,-55.5\"/>\n",
       "<text xml:space=\"preserve\" text-anchor=\"middle\" x=\"650.38\" y=\"-68.7\" font-family=\"Times New Roman,serif\" font-size=\"14.00\">d</text>\n",
       "<polyline fill=\"none\" stroke=\"black\" points=\"661.75,-56 661.75,-91.5\"/>\n",
       "<text xml:space=\"preserve\" text-anchor=\"middle\" x=\"701.62\" y=\"-68.7\" font-family=\"Times New Roman,serif\" font-size=\"14.00\">data 4.0000</text>\n",
       "<polyline fill=\"none\" stroke=\"black\" points=\"741.5,-56 741.5,-91.5\"/>\n",
       "<text xml:space=\"preserve\" text-anchor=\"middle\" x=\"784.38\" y=\"-68.7\" font-family=\"Times New Roman,serif\" font-size=\"14.00\">grad &#45;2.0000</text>\n",
       "</g>\n",
       "<!-- 2784842058192&#45;&gt;2784841364304* -->\n",
       "<g id=\"edge4\" class=\"edge\">\n",
       "<title>2784842058192&#45;&gt;2784841364304*</title>\n",
       "<path fill=\"none\" stroke=\"black\" d=\"M827.49,-56.65C836.36,-55.05 844.93,-53.5 852.73,-52.09\"/>\n",
       "<polygon fill=\"black\" stroke=\"black\" points=\"853.2,-55.56 862.42,-50.34 851.95,-48.68 853.2,-55.56\"/>\n",
       "</g>\n",
       "<!-- 2784842058192+&#45;&gt;2784842058192 -->\n",
       "<g id=\"edge3\" class=\"edge\">\n",
       "<title>2784842058192+&#45;&gt;2784842058192</title>\n",
       "<path fill=\"none\" stroke=\"black\" d=\"M603.31,-73.5C610.49,-73.5 618.72,-73.5 627.47,-73.5\"/>\n",
       "<polygon fill=\"black\" stroke=\"black\" points=\"627.29,-77 637.29,-73.5 627.29,-70 627.29,-77\"/>\n",
       "</g>\n",
       "</g>\n",
       "</svg>\n"
      ],
      "text/plain": [
       "<graphviz.graphs.Digraph at 0x28865859ba0>"
      ]
     },
     "execution_count": 47,
     "metadata": {},
     "output_type": "execute_result"
    }
   ],
   "source": [
    "draw_dot(l)"
   ]
  },
  {
   "cell_type": "markdown",
   "id": "260cb33c-8342-4bad-81e3-3c53f6d331ce",
   "metadata": {},
   "source": [
    "BTW WE CALCULATE THE DERIVATES OF E,C,A AND B WIHT THE HELP OF CHAIN RULE OF DERIVATION"
   ]
  },
  {
   "cell_type": "markdown",
   "id": "4d3f44f7-abef-41d2-af7b-94fbba0d9700",
   "metadata": {},
   "source": [
    "# Heading 2\n",
    "\n",
    "HERE, FOR ADDITION:  The gradients are normally passed through to the parent nodes from the child node. As it can be seen, C and E are having the same derivates as that of D. That is  because the gradients are passed down to the parent nodes from the cild node in the case of an \"addition operation.\"\n",
    "\n",
    "NOW, FOR MULTIPLICATION: The gradients are simply the product of the data of their other equivalent node and the gradient of their child node. As it can be seen here, the gradients of A is 6 which is calculated by (-3)x(-2), and the gradient of B is -4 which is calculated by (2)x(-2). Therefore, Gradients in multiplication are the product of the data of their OTHER equivalent node and the gradient of their child node. "
   ]
  },
  {
   "cell_type": "markdown",
   "id": "869c6c79-e8a8-475a-8b23-3fb44c337d4b",
   "metadata": {},
   "source": []
  }
 ],
 "metadata": {
  "kernelspec": {
   "display_name": "Python 3 (ipykernel)",
   "language": "python",
   "name": "python3"
  },
  "language_info": {
   "codemirror_mode": {
    "name": "ipython",
    "version": 3
   },
   "file_extension": ".py",
   "mimetype": "text/x-python",
   "name": "python",
   "nbconvert_exporter": "python",
   "pygments_lexer": "ipython3",
   "version": "3.13.2"
  }
 },
 "nbformat": 4,
 "nbformat_minor": 5
}
